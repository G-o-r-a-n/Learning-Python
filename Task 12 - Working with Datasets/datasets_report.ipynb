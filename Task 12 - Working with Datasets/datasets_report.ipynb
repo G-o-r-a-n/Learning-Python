{
  "cells": [
    {
      "cell_type": "code",
      "execution_count": 1,
      "metadata": {
        "id": "h0LVvvnfJsg5"
      },
      "outputs": [],
      "source": [
        "# Import pandas\n",
        "import pandas as pd"
      ]
    },
    {
      "cell_type": "code",
      "execution_count": 2,
      "metadata": {
        "id": "rv2oLRnPK36J"
      },
      "outputs": [],
      "source": [
        "# Create a DataFrame with balance.txt\n",
        "df = pd.read_csv('balance.txt', delim_whitespace=True)"
      ]
    },
    {
      "cell_type": "code",
      "execution_count": 3,
      "metadata": {
        "colab": {
          "base_uri": "https://localhost:8080/"
        },
        "id": "SR5JZp31JA9u",
        "outputId": "b09540ca-5e06-4ed3-a081-9928cc2b47f7"
      },
      "outputs": [
        {
          "name": "stdout",
          "output_type": "stream",
          "text": [
            "Average income by Ethnicity:\n",
            "\n",
            "African American: £47.68\n",
            "Asian: £44.19\n",
            "Caucasian: £44.52\n"
          ]
        }
      ],
      "source": [
        "# Compare average 'Income' based on 'Ethnicity'.\n",
        "ethnicity_average_income = df.groupby('Ethnicity')['Income'].mean()\n",
        "print(\n",
        "    \"Average income by Ethnicity:\"\n",
        "    \"\\n\\n\"\n",
        "    f\"African American: £{ethnicity_average_income['African American']:.2f}\"\n",
        "    \"\\n\"\n",
        "    f\"Asian: £{ethnicity_average_income['Asian']:.2f}\"\n",
        "    \"\\n\"\n",
        "    f\"Caucasian: £{ethnicity_average_income['Caucasian']:.2f}\"\n",
        "    )"
      ]
    },
    {
      "attachments": {},
      "cell_type": "markdown",
      "metadata": {
        "id": "MshNwMbZ2JtE"
      },
      "source": [
        "When comparing average income by ethnicity, we can see that individuals of African American (£47.68) ethnicity earn more income on average than individuals of Asian (£44.19) and Caucasian (£44.52) ethnicities."
      ]
    },
    {
      "cell_type": "code",
      "execution_count": 7,
      "metadata": {
        "colab": {
          "base_uri": "https://localhost:8080/"
        },
        "id": "cCqaeYs2Leeu",
        "outputId": "185a9f8e-4b64-414d-cdc3-b7bef117a235"
      },
      "outputs": [
        {
          "name": "stdout",
          "output_type": "stream",
          "text": [
            "Average income by Marital Status:\n",
            "\n",
            "Married: £46.22\n",
            "Unmarried: £43.64\n"
          ]
        }
      ],
      "source": [
        "# Compare average income based on marital status ('Married').\n",
        "married_average_income = df.groupby('Married')['Income'].mean()\n",
        "print(\n",
        "    \"Average income by Marital Status:\"\n",
        "    \"\\n\\n\"\n",
        "    f\"Married: £{married_average_income['Yes']:.2f}\"\n",
        "    \"\\n\"\n",
        "    f\"Unmarried: £{married_average_income['No']:.2f}\"\n",
        "    )"
      ]
    },
    {
      "attachments": {},
      "cell_type": "markdown",
      "metadata": {
        "id": "OcDs5sk93L5x"
      },
      "source": [
        "On average, we see that married individuals (£46.22) earn more income than unmarried individuals (£43.64)."
      ]
    },
    {
      "cell_type": "code",
      "execution_count": 8,
      "metadata": {
        "colab": {
          "base_uri": "https://localhost:8080/"
        },
        "id": "pfBsbTgJWDFd",
        "outputId": "1741bf04-9f7a-4d3e-9636-5811e4ab9e09"
      },
      "outputs": [
        {
          "name": "stdout",
          "output_type": "stream",
          "text": [
            "Highest Income: £186.63\n"
          ]
        }
      ],
      "source": [
        "# Highest income in DataFrame.\n",
        "highest_income = df.loc[:, 'Income'].max()\n",
        "print(f\"Highest Income: £{highest_income:.2f}\")"
      ]
    },
    {
      "attachments": {},
      "cell_type": "markdown",
      "metadata": {
        "id": "OdMfDD973Z2S"
      },
      "source": [
        "The highest income within our DataFrame is £186.63."
      ]
    },
    {
      "cell_type": "code",
      "execution_count": 9,
      "metadata": {
        "colab": {
          "base_uri": "https://localhost:8080/"
        },
        "id": "j1wf_1DSWnte",
        "outputId": "2d0d92c7-c428-4065-95f7-0d8c252fe4f9"
      },
      "outputs": [
        {
          "name": "stdout",
          "output_type": "stream",
          "text": [
            "Lowest Income: £10.35\n"
          ]
        }
      ],
      "source": [
        "# Lowest income in DataFrame.\n",
        "lowest_income = df.loc[:, 'Income'].min()\n",
        "print(f\"Lowest Income: £{lowest_income:.2f}\")"
      ]
    },
    {
      "attachments": {},
      "cell_type": "markdown",
      "metadata": {
        "id": "k8ETtwKl3pdD"
      },
      "source": [
        "The lowest income within our DataFrame is £10.35."
      ]
    },
    {
      "cell_type": "code",
      "execution_count": 10,
      "metadata": {
        "colab": {
          "base_uri": "https://localhost:8080/"
        },
        "id": "RIHuJVbhW0gz",
        "outputId": "4bcbf309-fb46-49d5-a09a-efa60d045977"
      },
      "outputs": [
        {
          "name": "stdout",
          "output_type": "stream",
          "text": [
            "Total Cards: 1183\n"
          ]
        }
      ],
      "source": [
        "# Total number of 'Cards' wihtin DataFrame.\n",
        "total_cards = df.loc[:, 'Cards'].sum()\n",
        "print(f\"Total Cards: {total_cards}\")"
      ]
    },
    {
      "attachments": {},
      "cell_type": "markdown",
      "metadata": {
        "id": "i1qfSkDN3vCo"
      },
      "source": [
        "The total number of cards held by all individuals within our DataFrame is 1183."
      ]
    },
    {
      "cell_type": "code",
      "execution_count": 11,
      "metadata": {
        "colab": {
          "base_uri": "https://localhost:8080/"
        },
        "id": "bQ6U6p34XXXI",
        "outputId": "25ea4257-428f-44d9-84d1-91b79cd7e89a"
      },
      "outputs": [
        {
          "name": "stdout",
          "output_type": "stream",
          "text": [
            "Number of individuals by gender:\n",
            "\n",
            "Female: 207\n",
            "Male: 193\n"
          ]
        }
      ],
      "source": [
        "# Group the DataFrame by the 'Gender' column, count the non-null 'Age' values for each gender,\n",
        "# and store the resulting Series in gender_count.\n",
        "gender_count = df.groupby('Gender')['Age'].count()\n",
        "# Use the indices of the above Series to display the information in a readable format.\n",
        "print(\n",
        "    \"Number of individuals by gender:\"\n",
        "    \"\\n\\n\"\n",
        "    f\"Female: {gender_count['Female']}\"\n",
        "    \"\\n\"\n",
        "    f\"Male: {gender_count['Male']}\"\n",
        "    )"
      ]
    },
    {
      "attachments": {},
      "cell_type": "markdown",
      "metadata": {
        "id": "1zu5MHad4ATp"
      },
      "source": [
        "Our DataFrame consists of 207 female individuals and 193 male individuals."
      ]
    }
  ],
  "metadata": {
    "colab": {
      "provenance": []
    },
    "kernelspec": {
      "display_name": "Python 3",
      "name": "python3"
    },
    "language_info": {
      "name": "python"
    }
  },
  "nbformat": 4,
  "nbformat_minor": 0
}
